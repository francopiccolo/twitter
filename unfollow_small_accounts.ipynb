{
 "cells": [
  {
   "cell_type": "code",
   "execution_count": 1,
   "metadata": {},
   "outputs": [],
   "source": [
    "import os\n",
    "import tweepy"
   ]
  },
  {
   "cell_type": "code",
   "execution_count": 2,
   "metadata": {},
   "outputs": [],
   "source": [
    "# Authenticate app context\n",
    "auth = tweepy.OAuthHandler(os.environ['TWITTER_API_KEY'], os.environ['TWITTER_API_SECRET'])\n",
    "auth.set_access_token(os.environ['TWITTER_ACCESS_TOKEN'], os.environ['TWITTER_ACCESS_TOKEN_SECRET'])\n",
    "api = tweepy.API(auth)"
   ]
  },
  {
   "cell_type": "code",
   "execution_count": 3,
   "metadata": {},
   "outputs": [
    {
     "name": "stdout",
     "output_type": "stream",
     "text": [
      "181\n"
     ]
    }
   ],
   "source": [
    "# Get follower ids\n",
    "screen_name = 'francopiccolo'\n",
    "follower_ids = api.get_follower_ids(screen_name=screen_name)\n",
    "print(len(follower_ids))"
   ]
  },
  {
   "cell_type": "code",
   "execution_count": 28,
   "metadata": {},
   "outputs": [],
   "source": [
    "# Get followers from list of user objects\n",
    "screen_name = 'francopiccolo'\n",
    "cursor = -1\n",
    "followers = []\n",
    "while cursor:\n",
    "    users, cursors = api.get_followers(screen_name=screen_name, cursor=cursor)\n",
    "    for user in users:\n",
    "        followers.append(user.screen_name)\n",
    "    cursor = cursors[1]"
   ]
  },
  {
   "cell_type": "code",
   "execution_count": 4,
   "metadata": {},
   "outputs": [
    {
     "name": "stdout",
     "output_type": "stream",
     "text": [
      "1341\n"
     ]
    }
   ],
   "source": [
    "# Get friend ids\n",
    "screen_name = 'francopiccolo'\n",
    "friend_ids = api.get_friend_ids(screen_name=screen_name)\n",
    "print(len(friend_ids))"
   ]
  },
  {
   "cell_type": "code",
   "execution_count": 5,
   "metadata": {},
   "outputs": [],
   "source": [
    "# Get users from list of user ids\n",
    "def get_users(user_ids, chunk_size=100):\n",
    "    num_users = len(user_ids)\n",
    "    start_idx = 0\n",
    "    end_idx = chunk_size\n",
    "    users = []\n",
    "    keep = True\n",
    "    while keep:\n",
    "        if end_idx > num_users:\n",
    "            end_idx = num_users\n",
    "            keep = False\n",
    "        users.extend(api.lookup_users(user_id=user_ids[start_idx:end_idx]))\n",
    "        start_idx += chunk_size\n",
    "        end_idx += chunk_size\n",
    "    return users"
   ]
  },
  {
   "cell_type": "code",
   "execution_count": 4,
   "metadata": {},
   "outputs": [],
   "source": [
    "# Unfollow small accounts not following me\n",
    "user_ids_to_unfollow = [user for user in friend_ids if user not in follower_ids]\n",
    "users_to_unfollow = get_users(user_ids_to_unfollow)\n",
    "users_to_unfollow = [user for user in users_to_unfollow if user.followers_count < 1000]\n",
    "for user in users_to_unfollow:\n",
    "    api.destroy_friendship(screen_name=user.screen_name)"
   ]
  }
 ],
 "metadata": {
  "interpreter": {
   "hash": "76a5b59d517bd0f6ad9c8606b6b5c55bb0b0ba4979dbbe17a1b6fb615220ab18"
  },
  "kernelspec": {
   "display_name": "Python 3.8.5 64-bit ('base': conda)",
   "language": "python",
   "name": "python3"
  },
  "language_info": {
   "codemirror_mode": {
    "name": "ipython",
    "version": 3
   },
   "file_extension": ".py",
   "mimetype": "text/x-python",
   "name": "python",
   "nbconvert_exporter": "python",
   "pygments_lexer": "ipython3",
   "version": "3.8.5"
  },
  "orig_nbformat": 4
 },
 "nbformat": 4,
 "nbformat_minor": 2
}
