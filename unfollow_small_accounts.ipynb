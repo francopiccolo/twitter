{
 "cells": [
  {
   "cell_type": "code",
   "execution_count": null,
   "source": [
    "from utils import get_api, get_users_from_user_ids"
   ],
   "outputs": [],
   "metadata": {}
  },
  {
   "cell_type": "code",
   "execution_count": null,
   "source": [
    "api = get_api()"
   ],
   "outputs": [],
   "metadata": {}
  },
  {
   "cell_type": "code",
   "execution_count": 3,
   "source": [
    "# Get follower ids\n",
    "screen_name = 'francopiccolo'\n",
    "follower_ids = api.get_follower_ids(screen_name=screen_name)\n",
    "print(len(follower_ids))"
   ],
   "outputs": [
    {
     "output_type": "stream",
     "name": "stdout",
     "text": [
      "181\n"
     ]
    }
   ],
   "metadata": {}
  },
  {
   "cell_type": "code",
   "execution_count": 4,
   "source": [
    "# Get friend ids\n",
    "screen_name = 'francopiccolo'\n",
    "friend_ids = api.get_friend_ids(screen_name=screen_name)\n",
    "print(len(friend_ids))"
   ],
   "outputs": [
    {
     "output_type": "stream",
     "name": "stdout",
     "text": [
      "1341\n"
     ]
    }
   ],
   "metadata": {}
  },
  {
   "cell_type": "code",
   "execution_count": 4,
   "source": [
    "# Unfollow small accounts not following me\n",
    "user_ids_to_unfollow = [user for user in friend_ids if user not in follower_ids]\n",
    "users_to_unfollow = get_users_from_user_ids(user_ids_to_unfollow)\n",
    "users_to_unfollow = [user for user in users_to_unfollow if user.followers_count < 1000]\n",
    "for user in users_to_unfollow:\n",
    "    api.destroy_friendship(screen_name=user.screen_name)"
   ],
   "outputs": [],
   "metadata": {}
  },
  {
   "cell_type": "code",
   "execution_count": null,
   "source": [
    "# Other\n",
    "# Get followers from list of user objects\n",
    "screen_name = 'francopiccolo'\n",
    "cursor = -1\n",
    "followers = []\n",
    "while cursor:\n",
    "    users, cursors = api.get_followers(screen_name=screen_name, cursor=cursor)\n",
    "    for user in users:\n",
    "        followers.append(user.screen_name)\n",
    "    cursor = cursors[1]"
   ],
   "outputs": [],
   "metadata": {}
  }
 ],
 "metadata": {
  "interpreter": {
   "hash": "76a5b59d517bd0f6ad9c8606b6b5c55bb0b0ba4979dbbe17a1b6fb615220ab18"
  },
  "kernelspec": {
   "display_name": "Python 3.8.5 64-bit ('base': conda)",
   "language": "python",
   "name": "python3"
  },
  "language_info": {
   "codemirror_mode": {
    "name": "ipython",
    "version": 3
   },
   "file_extension": ".py",
   "mimetype": "text/x-python",
   "name": "python",
   "nbconvert_exporter": "python",
   "pygments_lexer": "ipython3",
   "version": "3.8.5"
  },
  "orig_nbformat": 4
 },
 "nbformat": 4,
 "nbformat_minor": 2
}