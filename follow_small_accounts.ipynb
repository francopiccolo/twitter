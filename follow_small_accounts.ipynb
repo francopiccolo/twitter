{
 "cells": [
  {
   "cell_type": "code",
   "execution_count": 78,
   "metadata": {},
   "outputs": [],
   "source": [
    "from datetime import datetime, timezone\n",
    "\n",
    "import numpy as np\n",
    "import pandas as pd\n",
    "\n",
    "from utils import get_api, get_users_from_user_ids"
   ]
  },
  {
   "cell_type": "code",
   "execution_count": null,
   "metadata": {},
   "outputs": [],
   "source": [
    "# Get my followers (not necessary for now)"
   ]
  },
  {
   "cell_type": "code",
   "execution_count": 136,
   "metadata": {},
   "outputs": [
    {
     "name": "stdout",
     "output_type": "stream",
     "text": [
      "19126\n"
     ]
    }
   ],
   "source": [
    "# Get all followers ids from target big account\n",
    "api = get_api()\n",
    "screen_name = 'MrCluni'\n",
    "follower_ids = iterate_over_cursors(function=api.get_follower_ids, screen_name=screen_name)\n",
    "print(len(follower_ids))"
   ]
  },
  {
   "cell_type": "code",
   "execution_count": null,
   "metadata": {},
   "outputs": [],
   "source": [
    "# Get a subset of followers ids from target big account\n",
    "api = get_api()\n",
    "screen_name = 'MrCluni'\n",
    "follower_ids = api.get_follower_ids(screen_name=screen_name)\n",
    "print(len(follower_ids))"
   ]
  },
  {
   "cell_type": "code",
   "execution_count": 5,
   "metadata": {},
   "outputs": [],
   "source": [
    "num_users = 100\n",
    "followers = get_users_from_user_ids(follower_ids[:num_users])"
   ]
  },
  {
   "cell_type": "code",
   "execution_count": 143,
   "metadata": {},
   "outputs": [],
   "source": [
    "# Make df of followers in account\n",
    "important_attributes = ['screen_name', 'location', 'followers_count', 'friends_count', 'created_at', 'favourites_count', 'statuses_count']\n",
    "data = {k:[] for k in important_attributes}\n",
    "data['last_status'] = []\n",
    "for user in followers:\n",
    "    attributes = user._json\n",
    "    for attribute in important_attributes:\n",
    "        data[attribute].append(attributes[attribute])\n",
    "    last_status = np.nan\n",
    "    if 'status' in attributes:\n",
    "        last_status = user.status.created_at\n",
    "    \n",
    "    data['last_status'].append(last_status)\n",
    "\n",
    "followers_df = pd.DataFrame(data)\n",
    "followers_df['friends_followers_ratio'] = followers_df['friends_count'] / followers_df['followers_count']\n",
    "followers_df['time_processed'] = datetime.now(timezone.utc)\n",
    "followers_df['days_since_last_status'] = (followers_df['time_processed'] - followers_df['last_status']).dt.days\n",
    "followers_df['source_screen_name'] = screen_name\n"
   ]
  },
  {
   "cell_type": "code",
   "execution_count": 160,
   "metadata": {},
   "outputs": [],
   "source": [
    "# Get users I already checked\n",
    "df_users_played = pd.read_csv('./data/users_played.csv')"
   ]
  },
  {
   "cell_type": "code",
   "execution_count": 156,
   "metadata": {},
   "outputs": [],
   "source": [
    "# Pick users to check\n",
    "num_users = 1\n",
    "friends_followers_ratio_threshold = 4\n",
    "days_since_last_status_threshold = 0\n",
    "friends_threshold = 30\n",
    "\n",
    "friends_followers_ratio_mask = followers_df['friends_followers_ratio'] > friends_followers_ratio_threshold\n",
    "days_since_last_status_mask = followers_df['days_since_last_status'] <= days_since_last_status_threshold\n",
    "friends_mask = followers_df['friends_count'] > friends_threshold\n",
    "not_played_mask = ~followers_df['screen_name'].isin(df_users_played['screen_name'])\n",
    "\n",
    "df_to_follow = followers_df[friends_followers_ratio_mask & days_since_last_status_mask & friends_mask & not_played_mask].sample(num_users)"
   ]
  },
  {
   "cell_type": "code",
   "execution_count": 157,
   "metadata": {},
   "outputs": [
    {
     "data": {
      "text/html": [
       "<div>\n",
       "<style scoped>\n",
       "    .dataframe tbody tr th:only-of-type {\n",
       "        vertical-align: middle;\n",
       "    }\n",
       "\n",
       "    .dataframe tbody tr th {\n",
       "        vertical-align: top;\n",
       "    }\n",
       "\n",
       "    .dataframe thead th {\n",
       "        text-align: right;\n",
       "    }\n",
       "</style>\n",
       "<table border=\"1\" class=\"dataframe\">\n",
       "  <thead>\n",
       "    <tr style=\"text-align: right;\">\n",
       "      <th></th>\n",
       "      <th>screen_name</th>\n",
       "      <th>location</th>\n",
       "      <th>followers_count</th>\n",
       "      <th>friends_count</th>\n",
       "      <th>created_at</th>\n",
       "      <th>favourites_count</th>\n",
       "      <th>statuses_count</th>\n",
       "      <th>last_status</th>\n",
       "      <th>friends_followers_ratio</th>\n",
       "      <th>time_processed</th>\n",
       "      <th>days_since_last_status</th>\n",
       "      <th>source_screen_name</th>\n",
       "    </tr>\n",
       "  </thead>\n",
       "  <tbody>\n",
       "    <tr>\n",
       "      <th>5170</th>\n",
       "      <td>VegetaLiberal</td>\n",
       "      <td></td>\n",
       "      <td>215</td>\n",
       "      <td>4739</td>\n",
       "      <td>Thu May 06 01:51:06 +0000 2021</td>\n",
       "      <td>3</td>\n",
       "      <td>3730</td>\n",
       "      <td>2021-11-23 20:42:15+00:00</td>\n",
       "      <td>22.04186</td>\n",
       "      <td>2021-11-24 00:19:06.168127+00:00</td>\n",
       "      <td>0.0</td>\n",
       "      <td>MrCluni</td>\n",
       "    </tr>\n",
       "  </tbody>\n",
       "</table>\n",
       "</div>"
      ],
      "text/plain": [
       "        screen_name location  followers_count  friends_count  \\\n",
       "5170  VegetaLiberal                       215           4739   \n",
       "\n",
       "                          created_at  favourites_count  statuses_count  \\\n",
       "5170  Thu May 06 01:51:06 +0000 2021                 3            3730   \n",
       "\n",
       "                   last_status  friends_followers_ratio  \\\n",
       "5170 2021-11-23 20:42:15+00:00                 22.04186   \n",
       "\n",
       "                       time_processed  days_since_last_status  \\\n",
       "5170 2021-11-24 00:19:06.168127+00:00                     0.0   \n",
       "\n",
       "     source_screen_name  \n",
       "5170            MrCluni  "
      ]
     },
     "execution_count": 157,
     "metadata": {},
     "output_type": "execute_result"
    }
   ],
   "source": [
    "# View users to play\n",
    "df_to_follow"
   ]
  },
  {
   "cell_type": "code",
   "execution_count": 158,
   "metadata": {},
   "outputs": [],
   "source": [
    "# Save users played\n",
    "df_to_follow.to_csv('./data/users_played.csv', mode='a', index=False)"
   ]
  }
 ],
 "metadata": {
  "interpreter": {
   "hash": "76a5b59d517bd0f6ad9c8606b6b5c55bb0b0ba4979dbbe17a1b6fb615220ab18"
  },
  "kernelspec": {
   "display_name": "Python 3.8.5 64-bit ('base': conda)",
   "language": "python",
   "name": "python3"
  },
  "language_info": {
   "codemirror_mode": {
    "name": "ipython",
    "version": 3
   },
   "file_extension": ".py",
   "mimetype": "text/x-python",
   "name": "python",
   "nbconvert_exporter": "python",
   "pygments_lexer": "ipython3",
   "version": "3.8.5"
  },
  "orig_nbformat": 4
 },
 "nbformat": 4,
 "nbformat_minor": 2
}
